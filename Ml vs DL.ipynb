{
 "cells": [
  {
   "cell_type": "markdown",
   "metadata": {},
   "source": [
    "# Machine learning vs Deep Learning\n"
   ]
  },
  {
   "cell_type": "markdown",
   "metadata": {},
   "source": [
    "## Table of Contents\n",
    "\n",
    "```\n",
    "What is Machine Learning and Deep Learning?\n",
    "What is Machine Learning?\n",
    "What is Deep Learning?\n",
    "```\n",
    "## Comparison of Machine Learning and Deep Learning\n",
    "\n",
    "```\n",
    "Data Dependencies\n",
    "Hardware Dependency\n",
    "Problem Solving Approach\n",
    "Feature Engineering\n",
    "Execution time\n",
    "Interpretability\n",
    "\n",
    "```\n",
    "#### Where is Machine Learning and Deep Learning being applied right now?\n",
    "```\n",
    "Pop Quiz\n",
    "Future Trends\n",
    "```"
   ]
  },
  {
   "cell_type": "markdown",
   "metadata": {},
   "source": [
    "## What is Machine Learning \n",
    "\n",
    "```\n",
    "“A computer program is said to learn from experience E with respect to some class of tasks T \n",
    "and performance measure P if its performance at tasks in T, as measured by P, improves with experience E ”\n",
    "```"
   ]
  },
  {
   "cell_type": "markdown",
   "metadata": {},
   "source": [
    "## what is deep learning\n",
    "\n",
    "```\n",
    "“Deep learning is a particular kind of machine learning that achieves great power and \n",
    "flexibility by learning to represent the world as nested hierarchy of concepts,\n",
    "with each concept defined in relation to simpler concepts, and more abstract representations computed in terms of less abstract ones.”\n",
    "\n",
    "```\n"
   ]
  },
  {
   "cell_type": "markdown",
   "metadata": {},
   "source": [
    "### Comparison of Machine Learning and Deep Learning"
   ]
  },
  {
   "cell_type": "markdown",
   "metadata": {},
   "source": [
    "#### 1) Data dependencies"
   ]
  },
  {
   "cell_type": "markdown",
   "metadata": {},
   "source": [
    "```\n",
    "1) The most important difference between deep learning and traditional machine learning is its performance \n",
    "    as the scale of data increases. \n",
    "2) When the data is small, deep learning algorithms don’t perform that well. \n",
    "3) This is because deep learning algorithms need a large amount of data to understand it perfectly. \n",
    "4) On the other hand, traditional machine learning algorithms with their handcrafted rules prevail in this scenario.\n",
    "\n",
    "```"
   ]
  },
  {
   "cell_type": "code",
   "execution_count": 5,
   "metadata": {},
   "outputs": [
    {
     "data": {
      "text/html": [
       "<img src= \"C:/Users/user/Desktop/Resume/python_files/Python_KT/Python/Ownprepareddocs/img/image1.png\">\n"
      ],
      "text/plain": [
       "<IPython.core.display.HTML object>"
      ]
     },
     "metadata": {},
     "output_type": "display_data"
    }
   ],
   "source": [
    "%%html\n",
    "<img src= \"C:/Users/user/Desktop/Resume/python_files/Python_KT/Python/Ownprepareddocs/img/image1.png\">"
   ]
  },
  {
   "cell_type": "markdown",
   "metadata": {},
   "source": [
    "#### 2) Hardware dependencies"
   ]
  },
  {
   "cell_type": "markdown",
   "metadata": {},
   "source": [
    "```\n",
    "1) Deep learning algorithms heavily depend on high-end machines, contrary to traditional machine learning algorithms, \n",
    "   which can work on low-end machines. \n",
    "2) This is because the requirements of deep learning algorithm include GPUs which are an integral part of its working. \n",
    "3) Deep learning algorithms inherently do a large amount of matrix multiplication operations. \n",
    "   and These operations can be efficiently optimized using a GPU because GPU is built for this purpose.\n",
    "\n",
    "\n",
    "```"
   ]
  },
  {
   "cell_type": "markdown",
   "metadata": {},
   "source": [
    "#### 3)  Feature engineering"
   ]
  },
  {
   "cell_type": "markdown",
   "metadata": {},
   "source": [
    "```\n",
    "Feature engineering is a process of putting domain knowledge into the creation of feature extractors to reduce the complexity of the data and make patterns more visible to learning algorithms to work. \n",
    "This process is difficult and expensive in terms of time and expertise.\n",
    "\n",
    "In Machine learning, most of the applied features need to be identified by an expert and then hand-coded as per the domain and data type.\n",
    "\n",
    "For example, features can be pixel values, shape, textures, position and orientation. \n",
    "The performance of most of the Machine Learning algorithm depends on how accurately the features are identified and extracted.\n",
    "\n",
    "Deep learning algorithms try to learn high-level features from data. \n",
    "This is a very distinctive part of Deep Learning and a major step ahead of traditional Machine Learning. Therefore, deep learning reduces the task of developing new feature extractor for every problem. Like, \n",
    "Convolutional NN will try to learn low-level features such as edges and lines in early layers then parts of faces of people and then high-level representation of a face.\n",
    "\n",
    "```"
   ]
  },
  {
   "cell_type": "markdown",
   "metadata": {},
   "source": [
    "#### Problem Solving approach"
   ]
  },
  {
   "cell_type": "markdown",
   "metadata": {},
   "source": [
    "```\n",
    "When solving a problem using traditional machine learning algorithm, it is generally recommended to break the problem down into different parts,\n",
    "solve them individually and combine them to get the result. \n",
    "Deep learning in contrast advocates to solve the problem end-to-end.\n",
    "\n",
    "Let’s take an example to understand this.\n",
    "\n",
    "Suppose you have a task of multiple object detection. The task is to identify what is the object and where is it present in the image.\n",
    "\n",
    "In a typical machine learning approach, you would divide the problem into two steps,object detection and object recognition.\n",
    "First, you would use a bounding box detection algorithm like grabcut, to skim through the image and find all the possible objects.\n",
    "Then of all the recognized objects, you would then use object recognition algorithm like SVM with HOG to recognize relevant objects.\n",
    "\n",
    "On the contrary, in deep learning approach, you would do the process end-to-end. For example, in a YOLO net (which is a type of deep learning algorithm), \n",
    "you would pass in an image, and it would give out the location along with the name of object.\n",
    "\n",
    "```"
   ]
  },
  {
   "cell_type": "markdown",
   "metadata": {},
   "source": [
    "#### Execution time"
   ]
  },
  {
   "cell_type": "markdown",
   "metadata": {},
   "source": [
    "```\n",
    "Usually, a deep learning algorithm takes a long time to train. This is because there are so many parameters in a deep learning algorithm that training them takes longer than usual. State of the art deep learning algorithm ResNet takes about two weeks to train completely from scratch. Whereas machine learning comparatively takes much less time to train, ranging from a few seconds to a few hours.\n",
    "This is turn is completely reversed on testing time. At test time, deep learning algorithm takes much less time to run. Whereas, if you compare it with k-nearest neighbors (a type of machine learning algorithm), test time increases on increasing the size of data. Although this is not applicable on all machine learning algorithms, as some of them have small \n",
    "testing times too.\n",
    "\n",
    "```"
   ]
  },
  {
   "cell_type": "markdown",
   "metadata": {},
   "source": [
    "#### Interpretability"
   ]
  },
  {
   "cell_type": "markdown",
   "metadata": {},
   "source": [
    "```\n",
    "Last but not the least, we have interpretability as a factor for comparison of machine learning and deep learning. This factor is the main reason deep learning is still thought 10 times before its use in industry.\n",
    "\n",
    "Let’s take an example. Suppose we use deep learning to give automated scoring to essays. The performance it gives in scoring is quite excellent and is near human performance. But there’s is an issue. It does not reveal why it has given that score. Indeed mathematically you can find out which nodes of a deep neural network were activated, but we don’t know what there neurons were supposed to model and what these layers of neurons were doing collectively. So we fail to interpret the results.\n",
    "\n",
    "On the other hand, machine learning algorithms like decision trees give us crisp rules as to why it chose what it chose, so it is particularly easy to interpret the reasoning behind it. Therefore, algorithms like decision trees and linear/logistic regression are primarily used in industry for interpretability.\n",
    "\n",
    "```"
   ]
  },
  {
   "cell_type": "code",
   "execution_count": null,
   "metadata": {},
   "outputs": [],
   "source": []
  }
 ],
 "metadata": {
  "kernelspec": {
   "display_name": "Python 3",
   "language": "python",
   "name": "python3"
  },
  "language_info": {
   "codemirror_mode": {
    "name": "ipython",
    "version": 3
   },
   "file_extension": ".py",
   "mimetype": "text/x-python",
   "name": "python",
   "nbconvert_exporter": "python",
   "pygments_lexer": "ipython3",
   "version": "3.7.3"
  }
 },
 "nbformat": 4,
 "nbformat_minor": 2
}
